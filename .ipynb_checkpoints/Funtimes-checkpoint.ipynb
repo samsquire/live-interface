{
 "metadata": {
  "name": "",
  "signature": "sha256:8ddd7b416ceb5180c85a9413e2f211139ea0b43d67225784d3e9215afb4ce46b"
 },
 "nbformat": 3,
 "nbformat_minor": 0,
 "worksheets": []
}