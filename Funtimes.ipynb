{
 "metadata": {
  "name": "",
  "signature": "sha256:b5e734de9510e19c3c93821a9fccec0318421f7439ded797507ddb4d46a3e519"
 },
 "nbformat": 3,
 "nbformat_minor": 0,
 "worksheets": [
  {
   "cells": [
    {
     "cell_type": "code",
     "collapsed": false,
     "input": [
      "%quickref"
     ],
     "language": "python",
     "metadata": {},
     "outputs": [],
     "prompt_number": 18
    },
    {
     "cell_type": "code",
     "collapsed": false,
     "input": [
      "files = !ls"
     ],
     "language": "python",
     "metadata": {},
     "outputs": [],
     "prompt_number": 19
    },
    {
     "cell_type": "code",
     "collapsed": false,
     "input": [
      "files"
     ],
     "language": "python",
     "metadata": {},
     "outputs": [
      {
       "metadata": {},
       "output_type": "pyout",
       "prompt_number": 20,
       "text": [
        "['Funtimes.ipynb',\n",
        " 'a.html',\n",
        " 'angular-dependency-finder.js',\n",
        " 'app.js',\n",
        " 'b.html',\n",
        " 'bucket',\n",
        " 'bucket.js',\n",
        " 'bucket.sh',\n",
        " 'buckets',\n",
        " 'c.html',\n",
        " 'components',\n",
        " 'controllers',\n",
        " 'dashboard',\n",
        " 'db_version',\n",
        " 'design',\n",
        " 'directives',\n",
        " 'dotserver',\n",
        " 'example-oplookup.txt',\n",
        " 'example-template.txt',\n",
        " 'example.json',\n",
        " 'examples',\n",
        " 'filters',\n",
        " 'gazette',\n",
        " 'go.pp',\n",
        " 'images',\n",
        " 'index.html',\n",
        " 'indexing',\n",
        " 'indexing-index',\n",
        " 'langident',\n",
        " 'liveproxy',\n",
        " 'livingdocuments.sublime-project',\n",
        " 'livingsystem.sublime-project',\n",
        " 'livingsystem.sublime-workspace',\n",
        " 'logic',\n",
        " 'manage.py',\n",
        " 'models',\n",
        " 'patches',\n",
        " 'patches.tar',\n",
        " 'patterns',\n",
        " 'presentation',\n",
        " 'project.db',\n",
        " 'prototypes',\n",
        " 'queries',\n",
        " 'recursivedefinitions',\n",
        " 'repositories',\n",
        " 'services',\n",
        " 'shellbucket.js',\n",
        " 'shellbucket.sh',\n",
        " 'style.css',\n",
        " 'styles',\n",
        " 'templates',\n",
        " 'templateserver.js',\n",
        " 'text_mining.txt',\n",
        " 'things.ods',\n",
        " 'tree2schema.hy',\n",
        " 'utils',\n",
        " 'views',\n",
        " 'wordlists']"
       ]
      }
     ],
     "prompt_number": 20
    },
    {
     "cell_type": "code",
     "collapsed": false,
     "input": [
      "from numpy import random"
     ],
     "language": "python",
     "metadata": {},
     "outputs": [],
     "prompt_number": 33
    },
    {
     "cell_type": "code",
     "collapsed": false,
     "input": [],
     "language": "python",
     "metadata": {},
     "outputs": []
    }
   ],
   "metadata": {}
  }
 ]
}